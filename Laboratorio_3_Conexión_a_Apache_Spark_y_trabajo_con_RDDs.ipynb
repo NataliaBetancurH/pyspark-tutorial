{
  "nbformat": 4,
  "nbformat_minor": 0,
  "metadata": {
    "colab": {
      "provenance": []
    },
    "kernelspec": {
      "name": "python3",
      "display_name": "Python 3"
    },
    "language_info": {
      "name": "python"
    }
  },
  "cells": [
    {
      "cell_type": "markdown",
      "source": [
        "Autor: Natalia Betancur Herrera\n",
        "\n",
        "Fecha: 22/09/2025"
      ],
      "metadata": {
        "id": "Z0UNdA0K0-Wm"
      }
    },
    {
      "cell_type": "markdown",
      "source": [
        "# Laboratorio 3 Conexión a Apache Spark y trabajo con RDDs\n",
        "\n",
        "En esta sesión entenderemos cómo se estructura y opera un entorno de Big Data moderno, y cómo podemos simularlo con herramientas accesibles como Google Colab y PySpark. Este laboratorio te ayudará a visualizar cómo se conectan los componentes clave de una arquitectura distribuida y cómo puedes empezar a trabajar con datos masivos desde la nube, de forma escalable y eficiente.\n",
        "\n",
        "## ¿Qué es un RDD?\n",
        "\n",
        "Un **RDD (Resilient Distributed Dataset)** es la estructura de datos fundamental en Apache Spark.  Representa una colección **inmutable, distribuida y tolerante a fallos** de elementos que pueden procesarse en paralelo.\n",
        "\n",
        "En este laboratorio aprenderás a:\n",
        "* Crear un RDD desde un DataFrame.\n",
        "* Aplicar transformaciones como `filter`, `map`, `sortBy`.\n",
        "* Usar acciones como `take`, `count`, `collect`."
      ],
      "metadata": {
        "id": "Z7uyciLEVYCw"
      }
    },
    {
      "cell_type": "code",
      "source": [
        "# Instalación de PySpark\n",
        "!pip install pyspark\n",
        "\n",
        "# Importar librerías principales\n",
        "from pyspark.sql import SparkSession\n",
        "from pyspark.sql import functions as F\n",
        "from pyspark.sql.types import *\n",
        "\n",
        "# Crear la sesión de Spark\n",
        "spark = SparkSession.builder \\\n",
        "    .appName(\"Laboratorio_3_RDDs\") \\\n",
        "    .getOrCreate()\n",
        "\n",
        "print(\" Sesión de Spark iniciada correctamente\")"
      ],
      "metadata": {
        "id": "U_JLsbWRT3W6",
        "colab": {
          "base_uri": "https://localhost:8080/"
        },
        "outputId": "ec46657d-e77c-4375-881b-4ed9dfeb960b"
      },
      "execution_count": 3,
      "outputs": [
        {
          "output_type": "stream",
          "name": "stdout",
          "text": [
            "Requirement already satisfied: pyspark in /usr/local/lib/python3.12/dist-packages (3.5.1)\n",
            "Requirement already satisfied: py4j==0.10.9.7 in /usr/local/lib/python3.12/dist-packages (from pyspark) (0.10.9.7)\n",
            " Sesión de Spark iniciada correctamente\n"
          ]
        }
      ]
    },
    {
      "cell_type": "code",
      "source": [
        "# Crear un DataFrame simulado (similar al del primer laboratorio)\n",
        "data = [\n",
        "    (1, \"Bogotá\", \"Femenino\", \"Primaria\", 8.5),\n",
        "    (2, \"Pereira\", \"Masculino\", \"Secundaria\", 7.0),\n",
        "    (3, \"Manizales\", \"Femenino\", \"Primaria\", 9.1),\n",
        "    (4, \"Bogotá\", \"Femenino\", \"Primaria\", 6.8),\n",
        "    (5, \"Armenia\", \"Masculino\", \"Secundaria\", 8.0),\n",
        "    (6, \"Manizales\", \"Femenino\", \"Secundaria\", 7.3)\n",
        "]\n",
        "\n",
        "schema = StructType([\n",
        "    StructField(\"ID\", IntegerType(), True),\n",
        "    StructField(\"Ciudad\", StringType(), True),\n",
        "    StructField(\"Genero\", StringType(), True),\n",
        "    StructField(\"Grado\", StringType(), True),\n",
        "    StructField(\"Puntaje\", FloatType(), True)\n",
        "])\n",
        "\n",
        "df = spark.createDataFrame(data, schema)\n",
        "print(\" Datos cargados en PySpark\")\n",
        "df.show()"
      ],
      "metadata": {
        "colab": {
          "base_uri": "https://localhost:8080/"
        },
        "id": "DM_bAouOWGZf",
        "outputId": "c58d8641-c733-4108-db45-81f302bcdf65"
      },
      "execution_count": 7,
      "outputs": [
        {
          "output_type": "stream",
          "name": "stdout",
          "text": [
            " Datos cargados en PySpark\n",
            "+---+---------+---------+----------+-------+\n",
            "| ID|   Ciudad|   Genero|     Grado|Puntaje|\n",
            "+---+---------+---------+----------+-------+\n",
            "|  1|   Bogotá| Femenino|  Primaria|    8.5|\n",
            "|  2|  Pereira|Masculino|Secundaria|    7.0|\n",
            "|  3|Manizales| Femenino|  Primaria|    9.1|\n",
            "|  4|   Bogotá| Femenino|  Primaria|    6.8|\n",
            "|  5|  Armenia|Masculino|Secundaria|    8.0|\n",
            "|  6|Manizales| Femenino|Secundaria|    7.3|\n",
            "+---+---------+---------+----------+-------+\n",
            "\n"
          ]
        }
      ]
    },
    {
      "cell_type": "code",
      "source": [
        "# Convertir el DataFrame a un RDD\n",
        "rdd = df.rdd\n",
        "print(\" DataFrame convertido a RDD\")\n",
        "\n",
        "# Ver los primeros elementos del RDD\n",
        "print(rdd.take(3))"
      ],
      "metadata": {
        "colab": {
          "base_uri": "https://localhost:8080/"
        },
        "id": "drV7qKSNXIgf",
        "outputId": "592b6534-4143-4a80-de72-2fcd4efe90c4"
      },
      "execution_count": 8,
      "outputs": [
        {
          "output_type": "stream",
          "name": "stdout",
          "text": [
            " DataFrame convertido a RDD\n",
            "[Row(ID=1, Ciudad='Bogotá', Genero='Femenino', Grado='Primaria', Puntaje=8.5), Row(ID=2, Ciudad='Pereira', Genero='Masculino', Grado='Secundaria', Puntaje=7.0), Row(ID=3, Ciudad='Manizales', Genero='Femenino', Grado='Primaria', Puntaje=9.100000381469727)]\n"
          ]
        }
      ]
    },
    {
      "cell_type": "code",
      "source": [
        "# Almacenar en memoria cache nuestro RDD para utilizarlo varias veces\n",
        "rdd.cache()\n",
        "\n",
        "# Ver cuántas particiones tiene nuestro RDD\n",
        "print(\"Número de particiones inicial:\", rdd.getNumPartitions())\n",
        "\n",
        "# Reparticionar nuestro RDD, por ejemplo, en 4 particiones\n",
        "rdd = rdd.repartition(4)\n",
        "print(\"Número de particiones después de reparticionar:\", rdd.getNumPartitions())\n",
        "\n",
        "# Mostrar algunas filas del RDD\n",
        "rdd.take(5)"
      ],
      "metadata": {
        "colab": {
          "base_uri": "https://localhost:8080/"
        },
        "id": "MsLDnjGEXofJ",
        "outputId": "2dbfab8d-6469-4e80-97d0-20b79894b807"
      },
      "execution_count": 9,
      "outputs": [
        {
          "output_type": "stream",
          "name": "stdout",
          "text": [
            "Número de particiones inicial: 2\n",
            "Número de particiones después de reparticionar: 4\n"
          ]
        },
        {
          "output_type": "execute_result",
          "data": {
            "text/plain": [
              "[Row(ID=1, Ciudad='Bogotá', Genero='Femenino', Grado='Primaria', Puntaje=8.5),\n",
              " Row(ID=2, Ciudad='Pereira', Genero='Masculino', Grado='Secundaria', Puntaje=7.0),\n",
              " Row(ID=3, Ciudad='Manizales', Genero='Femenino', Grado='Primaria', Puntaje=9.100000381469727),\n",
              " Row(ID=4, Ciudad='Bogotá', Genero='Femenino', Grado='Primaria', Puntaje=6.800000190734863),\n",
              " Row(ID=5, Ciudad='Armenia', Genero='Masculino', Grado='Secundaria', Puntaje=8.0)]"
            ]
          },
          "metadata": {},
          "execution_count": 9
        }
      ]
    },
    {
      "cell_type": "code",
      "source": [
        "# TRANSFORMACIÓN - Filter: filtrar estudiantes con puntaje mayor a 8.0\n",
        "rdd_filtrado = rdd.filter(lambda row: row[\"Puntaje\"] > 8.0)\n",
        "rdd_filtrado.take(5)"
      ],
      "metadata": {
        "id": "U3jmIR7SZn8C",
        "colab": {
          "base_uri": "https://localhost:8080/"
        },
        "outputId": "fb90152b-e682-430e-d842-d3987a3dbd07"
      },
      "execution_count": 10,
      "outputs": [
        {
          "output_type": "execute_result",
          "data": {
            "text/plain": [
              "[Row(ID=1, Ciudad='Bogotá', Genero='Femenino', Grado='Primaria', Puntaje=8.5),\n",
              " Row(ID=3, Ciudad='Manizales', Genero='Femenino', Grado='Primaria', Puntaje=9.100000381469727)]"
            ]
          },
          "metadata": {},
          "execution_count": 10
        }
      ]
    },
    {
      "cell_type": "code",
      "source": [
        "# TRANSFORMACIÓN - Map: convertir el nombre de ciudad a mayúsculas\n",
        "rdd_mayusculas = rdd.map(lambda row: row[\"Ciudad\"].upper())\n",
        "rdd_mayusculas.take(5)"
      ],
      "metadata": {
        "colab": {
          "base_uri": "https://localhost:8080/"
        },
        "id": "sBXB6YfDbGk3",
        "outputId": "d2f53bdb-5abc-4120-bde6-878472a745e6"
      },
      "execution_count": 12,
      "outputs": [
        {
          "output_type": "execute_result",
          "data": {
            "text/plain": [
              "['BOGOTÁ', 'PEREIRA', 'MANIZALES', 'BOGOTÁ', 'ARMENIA']"
            ]
          },
          "metadata": {},
          "execution_count": 12
        }
      ]
    },
    {
      "cell_type": "code",
      "source": [
        "# TRANSFORMACIÓN - Map y Reduce: promedio de puntaje por Ciudad\n",
        "rdd_map = rdd.map(lambda x: (x[\"Ciudad\"], x[\"Puntaje\"]))\n",
        "rdd_promedios = rdd_map \\\n",
        "    .mapValues(lambda x: (x, 1)) \\\n",
        "    .reduceByKey(lambda a, b: (a[0] + b[0], a[1] + b[1])) \\\n",
        "    .mapValues(lambda x: x[0] / x[1])\n",
        "\n",
        "print(\"🏅 Promedio de puntaje por Ciudad:\")\n",
        "print(rdd_promedios.collect())"
      ],
      "metadata": {
        "colab": {
          "base_uri": "https://localhost:8080/"
        },
        "id": "E5OZdZt8cCOp",
        "outputId": "f050a34d-a4f1-40f5-be65-0f0d11aee5d4"
      },
      "execution_count": 13,
      "outputs": [
        {
          "output_type": "stream",
          "name": "stdout",
          "text": [
            "🏅 Promedio de puntaje por Ciudad:\n",
            "[('Bogotá', 7.650000095367432), ('Manizales', 8.200000286102295), ('Pereira', 7.0), ('Armenia', 8.0)]\n"
          ]
        }
      ]
    },
    {
      "cell_type": "code",
      "source": [
        "# Orden descendente (de mayor a menor puntaje)\n",
        "rdd_ordenado_desc = rdd.sortBy(lambda row: row['Puntaje'], ascending=False)\n",
        "print(\" Orden descendente por Puntaje:\")\n",
        "rdd_ordenado_desc.take(5)"
      ],
      "metadata": {
        "colab": {
          "base_uri": "https://localhost:8080/"
        },
        "id": "JPhGk_2ifpGi",
        "outputId": "dfb8f99d-b695-4e47-c0cb-a68a271de89d"
      },
      "execution_count": 15,
      "outputs": [
        {
          "output_type": "stream",
          "name": "stdout",
          "text": [
            " Orden descendente por Puntaje:\n"
          ]
        },
        {
          "output_type": "execute_result",
          "data": {
            "text/plain": [
              "[Row(ID=3, Ciudad='Manizales', Genero='Femenino', Grado='Primaria', Puntaje=9.100000381469727),\n",
              " Row(ID=1, Ciudad='Bogotá', Genero='Femenino', Grado='Primaria', Puntaje=8.5),\n",
              " Row(ID=5, Ciudad='Armenia', Genero='Masculino', Grado='Secundaria', Puntaje=8.0),\n",
              " Row(ID=6, Ciudad='Manizales', Genero='Femenino', Grado='Secundaria', Puntaje=7.300000190734863),\n",
              " Row(ID=2, Ciudad='Pereira', Genero='Masculino', Grado='Secundaria', Puntaje=7.0)]"
            ]
          },
          "metadata": {},
          "execution_count": 15
        }
      ]
    },
    {
      "cell_type": "code",
      "source": [
        "# Acción 1: TAKE Devuelve los primeros N elementos del RDD\n",
        "print(\"Ejemplo de registros del RDD original:\")\n",
        "print(rdd.take(5))\n",
        "\n",
        "\n",
        "# Acción 2: COUNT Retorna el número total de elementos en el RDD\n",
        "total_registros = rdd.count()\n",
        "print(f\"Total de registros en el RDD: {total_registros}\")\n",
        "\n",
        "\n",
        "# Acción 3: COLLECT Recupera todo el contenido del RDD y lo devuelve al driver.\n",
        "print(\"Colectando todos los registros (solo para datasets pequeños):\")\n",
        "todos_los_registros = rdd.collect()\n",
        "\n",
        "# Mostrar los primeros 5 elementos colectados\n",
        "for i in todos_los_registros[:5]:\n",
        "    print(i)"
      ],
      "metadata": {
        "colab": {
          "base_uri": "https://localhost:8080/"
        },
        "id": "0juB_bOR-Yp6",
        "outputId": "2fee85a4-81c3-4c58-9fd2-9bb5a51a81f8"
      },
      "execution_count": 17,
      "outputs": [
        {
          "output_type": "stream",
          "name": "stdout",
          "text": [
            "Ejemplo de registros del RDD original:\n",
            "[Row(ID=1, Ciudad='Bogotá', Genero='Femenino', Grado='Primaria', Puntaje=8.5), Row(ID=2, Ciudad='Pereira', Genero='Masculino', Grado='Secundaria', Puntaje=7.0), Row(ID=3, Ciudad='Manizales', Genero='Femenino', Grado='Primaria', Puntaje=9.100000381469727), Row(ID=4, Ciudad='Bogotá', Genero='Femenino', Grado='Primaria', Puntaje=6.800000190734863), Row(ID=5, Ciudad='Armenia', Genero='Masculino', Grado='Secundaria', Puntaje=8.0)]\n",
            "Total de registros en el RDD: 6\n",
            "Colectando todos los registros (solo para datasets pequeños):\n",
            "Row(ID=1, Ciudad='Bogotá', Genero='Femenino', Grado='Primaria', Puntaje=8.5)\n",
            "Row(ID=2, Ciudad='Pereira', Genero='Masculino', Grado='Secundaria', Puntaje=7.0)\n",
            "Row(ID=3, Ciudad='Manizales', Genero='Femenino', Grado='Primaria', Puntaje=9.100000381469727)\n",
            "Row(ID=4, Ciudad='Bogotá', Genero='Femenino', Grado='Primaria', Puntaje=6.800000190734863)\n",
            "Row(ID=5, Ciudad='Armenia', Genero='Masculino', Grado='Secundaria', Puntaje=8.0)\n"
          ]
        }
      ]
    }
  ]
}