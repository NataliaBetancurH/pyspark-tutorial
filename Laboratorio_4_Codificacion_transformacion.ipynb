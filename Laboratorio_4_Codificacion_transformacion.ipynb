{
  "nbformat": 4,
  "nbformat_minor": 0,
  "metadata": {
    "colab": {
      "provenance": []
    },
    "kernelspec": {
      "name": "python3",
      "display_name": "Python 3"
    },
    "language_info": {
      "name": "python"
    }
  },
  "cells": [
    {
      "cell_type": "markdown",
      "source": [
        "Autor: Natalia Betancur Herrera\n",
        "\n",
        "Fecha: 22/09/2025"
      ],
      "metadata": {
        "id": "Z0UNdA0K0-Wm"
      }
    },
    {
      "cell_type": "markdown",
      "source": [
        "# Laboratorio 4 Codificación y transformación de variables\n",
        "\n",
        "En esta sesión daremos un paso clave en el camino hacia la inteligencia artificial, preparar los datos para que los modelos puedan entenderlos y aprender de ellos. Esto implica transformar variables categóricas y numéricas para que sean compatibles con algoritmos de aprendizaje automático.\n",
        "\n",
        "\n",
        "En este laboratorio aprenderás a:\n",
        "* Identificación de variables categóricas y numéricas\n",
        "* Codificación de variables categóricas\n",
        "* Transformación de variables numéricas\n"
      ],
      "metadata": {
        "id": "Z7uyciLEVYCw"
      }
    },
    {
      "cell_type": "code",
      "execution_count": 1,
      "metadata": {
        "colab": {
          "base_uri": "https://localhost:8080/"
        },
        "id": "5PtDR8CzddyG",
        "outputId": "b72d2ec9-8428-448e-8c9b-bb3f95667a64"
      },
      "outputs": [
        {
          "output_type": "stream",
          "name": "stdout",
          "text": [
            "Requirement already satisfied: pyspark in /usr/local/lib/python3.12/dist-packages (3.5.1)\n",
            "Requirement already satisfied: py4j==0.10.9.7 in /usr/local/lib/python3.12/dist-packages (from pyspark) (0.10.9.7)\n",
            " Sesión de Spark iniciada correctamente\n"
          ]
        }
      ],
      "source": [
        "# Instalación de PySpark\n",
        "!pip install pyspark\n",
        "\n",
        "# Importar librerías principales\n",
        "from pyspark.sql import SparkSession\n",
        "from pyspark.sql import functions as F\n",
        "from pyspark.sql.types import *\n",
        "from datetime import datetime\n",
        "from pyspark.ml import Pipeline\n",
        "from pyspark.ml.feature import SQLTransformer, StringIndexer, OneHotEncoder, VectorAssembler\n",
        "import matplotlib.pyplot as plt\n",
        "import seaborn as sns\n",
        "from pyspark.ml.classification import LogisticRegression, DecisionTreeClassifier, RandomForestClassifier, NaiveBayes\n",
        "from pyspark.ml.evaluation import MulticlassClassificationEvaluator\n",
        "\n",
        "\n",
        "# Crear la sesión de Spark\n",
        "spark = SparkSession.builder \\\n",
        "    .appName(\"Laboratorio_4_Codificacion_y_Transformaciones\") \\\n",
        "    .getOrCreate()\n",
        "\n",
        "print(\" Sesión de Spark iniciada correctamente\")"
      ]
    },
    {
      "cell_type": "markdown",
      "source": [
        "# Cargar el dataset\n"
      ],
      "metadata": {
        "id": "ziMC9KdwuajZ"
      }
    },
    {
      "cell_type": "code",
      "source": [
        "# Clonar el repositorio\n",
        "!git clone https://github.com/NataliaBetancurH/pyspark-tutorial.git\n",
        "\n",
        "\n",
        "# Cargar los datos\n",
        "df = spark.read.csv(\"/content/pyspark-tutorial/dataset_salariales.csv\", header=True, inferSchema=True)\n",
        "\n",
        "\n",
        "# Verificar tipo y estructura\n",
        "print(f\"Tipo de objeto df: {type(df)}\")\n",
        "df.show(5)"
      ],
      "metadata": {
        "colab": {
          "base_uri": "https://localhost:8080/"
        },
        "id": "ailcgjDyuFAr",
        "outputId": "161b5b30-6387-4a20-c46f-32b70b69ac42"
      },
      "execution_count": 2,
      "outputs": [
        {
          "output_type": "stream",
          "name": "stdout",
          "text": [
            "Cloning into 'pyspark-tutorial'...\n",
            "remote: Enumerating objects: 35, done.\u001b[K\n",
            "remote: Counting objects: 100% (35/35), done.\u001b[K\n",
            "remote: Compressing objects: 100% (33/33), done.\u001b[K\n",
            "remote: Total 35 (delta 13), reused 0 (delta 0), pack-reused 0 (from 0)\u001b[K\n",
            "Receiving objects: 100% (35/35), 53.74 KiB | 3.84 MiB/s, done.\n",
            "Resolving deltas: 100% (13/13), done.\n",
            "Tipo de objeto df: <class 'pyspark.sql.dataframe.DataFrame'>\n",
            "+---------+----------------+---------------+--------------------+------+---------------+-------------+------------------+------------+----------------+------------+\n",
            "|work_year|experience_level|employment_type|           job_title|salary|salary_currency|salary_in_usd|employee_residence|remote_ratio|company_location|company_size|\n",
            "+---------+----------------+---------------+--------------------+------+---------------+-------------+------------------+------------+----------------+------------+\n",
            "|     2023|              SE|             FT|Principal Data Sc...| 80000|            EUR|        85847|                ES|         100|              ES|           L|\n",
            "|     2023|              MI|             CT|         ML Engineer| 30000|            USD|        30000|                US|         100|              US|           S|\n",
            "|     2023|              MI|             CT|         ML Engineer| 25500|            USD|        25500|                US|         100|              US|           S|\n",
            "|     2023|              SE|             FT|      Data Scientist|175000|            USD|       175000|                CA|         100|              CA|           M|\n",
            "|     2023|              SE|             FT|      Data Scientist|120000|            USD|       120000|                CA|         100|              CA|           M|\n",
            "+---------+----------------+---------------+--------------------+------+---------------+-------------+------------------+------------+----------------+------------+\n",
            "only showing top 5 rows\n",
            "\n"
          ]
        }
      ]
    },
    {
      "cell_type": "code",
      "source": [
        "df.printSchema()"
      ],
      "metadata": {
        "colab": {
          "base_uri": "https://localhost:8080/"
        },
        "id": "RwGqJW60Tpmb",
        "outputId": "85248684-b723-4561-909b-ca6eaa81915c"
      },
      "execution_count": 3,
      "outputs": [
        {
          "output_type": "stream",
          "name": "stdout",
          "text": [
            "root\n",
            " |-- work_year: integer (nullable = true)\n",
            " |-- experience_level: string (nullable = true)\n",
            " |-- employment_type: string (nullable = true)\n",
            " |-- job_title: string (nullable = true)\n",
            " |-- salary: integer (nullable = true)\n",
            " |-- salary_currency: string (nullable = true)\n",
            " |-- salary_in_usd: integer (nullable = true)\n",
            " |-- employee_residence: string (nullable = true)\n",
            " |-- remote_ratio: integer (nullable = true)\n",
            " |-- company_location: string (nullable = true)\n",
            " |-- company_size: string (nullable = true)\n",
            "\n"
          ]
        }
      ]
    },
    {
      "cell_type": "markdown",
      "source": [
        "El conjunto de datos Data Science Job Salaries contiene 11 columnas, cada una representa:\n",
        "\n",
        "- `work_year`: El año en que se pagó el salario.\n",
        "- `experience_level`: El nivel de experiencia en el trabajo durante ese año.\n",
        "- `employment_type`: El tipo de contrato o modalidad de empleo para el rol.\n",
        "- `job_title`: El cargo desempeñado durante el año.\n",
        "- `salary`: El monto total bruto del salario pagado.\n",
        "- `salary_currency`: La moneda en la que se pagó el salario.\n",
        "- `salaryinusd`: El salario convertido a dólares estadounidenses (USD).\n",
        "- `employee_residence`: El país de residencia principal del empleado durante el año laboral.\n",
        "- `remote_ratio`: El porcentaje del trabajo realizado de forma remota.\n",
        "- `company_location`: El país de la oficina principal o sucursal contratante del empleador.\n",
        "- `company_size`: El número promedio de empleados que trabajaron en la empresa durante ese año.\n"
      ],
      "metadata": {
        "id": "N8KjyJu-TlbB"
      }
    },
    {
      "cell_type": "markdown",
      "source": [
        "# Análisis exploratorio de los datos\n"
      ],
      "metadata": {
        "id": "0NyECDWLuoZ5"
      }
    },
    {
      "cell_type": "code",
      "source": [
        "# Filas y columnas\n",
        "print(\"Filas:\", df.count(), \"| Columnas:\", len(df.columns))\n",
        "df.printSchema()\n",
        "\n",
        "# Conteo de nulos por columna\n",
        "nulls = df.select([F.sum(F.col(c).isNull().cast(\"int\")).alias(c) for c in df.columns])\n",
        "nulls.show()"
      ],
      "metadata": {
        "colab": {
          "base_uri": "https://localhost:8080/"
        },
        "id": "dTEPBeUHvA0a",
        "outputId": "caafa660-d1d4-4158-e752-ec146237c7ef"
      },
      "execution_count": 4,
      "outputs": [
        {
          "output_type": "stream",
          "name": "stdout",
          "text": [
            "Filas: 3755 | Columnas: 11\n",
            "root\n",
            " |-- work_year: integer (nullable = true)\n",
            " |-- experience_level: string (nullable = true)\n",
            " |-- employment_type: string (nullable = true)\n",
            " |-- job_title: string (nullable = true)\n",
            " |-- salary: integer (nullable = true)\n",
            " |-- salary_currency: string (nullable = true)\n",
            " |-- salary_in_usd: integer (nullable = true)\n",
            " |-- employee_residence: string (nullable = true)\n",
            " |-- remote_ratio: integer (nullable = true)\n",
            " |-- company_location: string (nullable = true)\n",
            " |-- company_size: string (nullable = true)\n",
            "\n",
            "+---------+----------------+---------------+---------+------+---------------+-------------+------------------+------------+----------------+------------+\n",
            "|work_year|experience_level|employment_type|job_title|salary|salary_currency|salary_in_usd|employee_residence|remote_ratio|company_location|company_size|\n",
            "+---------+----------------+---------------+---------+------+---------------+-------------+------------------+------------+----------------+------------+\n",
            "|        0|               0|              0|        0|     0|              0|            0|                 0|           0|               0|           0|\n",
            "+---------+----------------+---------------+---------+------+---------------+-------------+------------------+------------+----------------+------------+\n",
            "\n"
          ]
        }
      ]
    },
    {
      "cell_type": "code",
      "source": [
        "# Generar un análisis estadístico\n",
        "df.describe().show()"
      ],
      "metadata": {
        "colab": {
          "base_uri": "https://localhost:8080/"
        },
        "id": "P_hRY_cmU_I9",
        "outputId": "41edf4f3-f59a-4db0-f14b-1255d4797e11"
      },
      "execution_count": 5,
      "outputs": [
        {
          "output_type": "stream",
          "name": "stdout",
          "text": [
            "+-------+------------------+----------------+---------------+--------------------+------------------+---------------+------------------+------------------+------------------+----------------+------------+\n",
            "|summary|         work_year|experience_level|employment_type|           job_title|            salary|salary_currency|     salary_in_usd|employee_residence|      remote_ratio|company_location|company_size|\n",
            "+-------+------------------+----------------+---------------+--------------------+------------------+---------------+------------------+------------------+------------------+----------------+------------+\n",
            "|  count|              3755|            3755|           3755|                3755|              3755|           3755|              3755|              3755|              3755|            3755|        3755|\n",
            "|   mean|2022.3736351531293|            NULL|           NULL|                NULL|190695.57177097205|           NULL|137570.38988015978|              NULL|46.271637816245004|            NULL|        NULL|\n",
            "| stddev|0.6914482342677833|            NULL|           NULL|                NULL| 671676.5005079063|           NULL|63055.625278224135|              NULL|48.589050470587495|            NULL|        NULL|\n",
            "|    min|              2020|              EN|             CT|3D Computer Visio...|              6000|            AUD|              5132|                AE|                 0|              AE|           L|\n",
            "|    max|              2023|              SE|             PT|Staff Data Scientist|          30400000|            USD|            450000|                VN|               100|              VN|           S|\n",
            "+-------+------------------+----------------+---------------+--------------------+------------------+---------------+------------------+------------------+------------------+----------------+------------+\n",
            "\n"
          ]
        }
      ]
    },
    {
      "cell_type": "code",
      "source": [
        "# Borrar valores faltantes\n",
        "df = df.dropna()"
      ],
      "metadata": {
        "id": "hMia-_uGmSDL"
      },
      "execution_count": 6,
      "outputs": []
    },
    {
      "cell_type": "code",
      "source": [
        "# Conteo por company_size\n",
        "df.groupBy(\"company_size\").count().orderBy(F.desc(\"count\")).show(truncate=False)\n",
        "\n",
        "# Conteo por employment_type\n",
        "df.groupBy(\"employment_type\").count().orderBy(\"employment_type\").show()\n"
      ],
      "metadata": {
        "colab": {
          "base_uri": "https://localhost:8080/"
        },
        "id": "9awqjhhrvDb5",
        "outputId": "c62abe1e-8d17-48bc-b935-0b599bf9a6f7"
      },
      "execution_count": 7,
      "outputs": [
        {
          "output_type": "stream",
          "name": "stdout",
          "text": [
            "+------------+-----+\n",
            "|company_size|count|\n",
            "+------------+-----+\n",
            "|M           |3153 |\n",
            "|L           |454  |\n",
            "|S           |148  |\n",
            "+------------+-----+\n",
            "\n",
            "+---------------+-----+\n",
            "|employment_type|count|\n",
            "+---------------+-----+\n",
            "|             CT|   10|\n",
            "|             FL|   10|\n",
            "|             FT| 3718|\n",
            "|             PT|   17|\n",
            "+---------------+-----+\n",
            "\n"
          ]
        }
      ]
    },
    {
      "cell_type": "code",
      "source": [
        "# Visualizar distribuciones\n",
        "df_pandas = df.toPandas()\n",
        "plt.figure(figsize=(10,18))\n",
        "sns.countplot(y='employee_residence', data=df_pandas, order=df_pandas['employee_residence'].value_counts().index)\n",
        "plt.title('Distribution of Employee Residence')\n",
        "plt.show()"
      ],
      "metadata": {
        "colab": {
          "base_uri": "https://localhost:8080/",
          "height": 1000
        },
        "id": "EZmMEPSaztMq",
        "outputId": "5a66a2ca-1d16-4141-8438-9ce191d86b59"
      },
      "execution_count": 8,
      "outputs": [
        {
          "output_type": "display_data",
          "data": {
            "text/plain": [
              "<Figure size 1000x1800 with 1 Axes>"
            ],
            "image/png": "[encoded data removed]"
          },
          "metadata": {}
        }
      ]
    },
    {
      "cell_type": "code",
      "source": [
        "# filtrado de los datos\n",
        "df = df.filter(df.employee_residence == 'US')\n",
        "\n",
        "df.printSchema()"
      ],
      "metadata": {
        "colab": {
          "base_uri": "https://localhost:8080/"
        },
        "id": "EsndduHkXxYi",
        "outputId": "e99b6742-a6e0-4393-94b2-c0958f383205"
      },
      "execution_count": 9,
      "outputs": [
        {
          "output_type": "stream",
          "name": "stdout",
          "text": [
            "root\n",
            " |-- work_year: integer (nullable = true)\n",
            " |-- experience_level: string (nullable = true)\n",
            " |-- employment_type: string (nullable = true)\n",
            " |-- job_title: string (nullable = true)\n",
            " |-- salary: integer (nullable = true)\n",
            " |-- salary_currency: string (nullable = true)\n",
            " |-- salary_in_usd: integer (nullable = true)\n",
            " |-- employee_residence: string (nullable = true)\n",
            " |-- remote_ratio: integer (nullable = true)\n",
            " |-- company_location: string (nullable = true)\n",
            " |-- company_size: string (nullable = true)\n",
            "\n"
          ]
        }
      ]
    },
    {
      "cell_type": "markdown",
      "source": [
        "Al filtrar los datos para EE. UU., es necesario eliminar algunas columnas redundantes. Eliminemos `employee_residence`, `salary_currency` (ya que todo está en USD) y `salary` (el salario será el mismo que salary_in_usd después del filtrado)"
      ],
      "metadata": {
        "id": "HCVAfrOS0X56"
      }
    },
    {
      "cell_type": "code",
      "source": [
        "# borrar columnas redundantes\n",
        "df = df.drop('employee_residence')\n",
        "df = df.drop('salary_currency')\n",
        "df = df.drop('salary')"
      ],
      "metadata": {
        "id": "WBWIKvcQYB2n"
      },
      "execution_count": 10,
      "outputs": []
    },
    {
      "cell_type": "code",
      "source": [
        "# Conteo antes de remover duplicados\n",
        "count_before = df.count()\n",
        "print(f\"Conteo antes de remover duplicados: {count_before}\")\n",
        "\n",
        "# Remover duplicados\n",
        "df = df.dropDuplicates()\n",
        "\n",
        "# Conteo después de remover duplicados\n",
        "count_after = df.count()\n",
        "print(f\"Conteo después de remover duplicados: {count_after}\")\n",
        "\n",
        "# Mostrar duplicados\n",
        "print(f\"Duplicados: {count_before - count_after}\")"
      ],
      "metadata": {
        "colab": {
          "base_uri": "https://localhost:8080/"
        },
        "id": "oJ8RO4TSYiFc",
        "outputId": "9128ae38-2d3f-44e2-ffc9-ac5f52a3a1a7"
      },
      "execution_count": 11,
      "outputs": [
        {
          "output_type": "stream",
          "name": "stdout",
          "text": [
            "Conteo antes de remover duplicados: 3004\n",
            "Conteo después de remover duplicados: 1893\n",
            "Duplicados: 1111\n"
          ]
        }
      ]
    },
    {
      "cell_type": "code",
      "source": [
        "min_salary = df.agg(F.min(df.salary_in_usd)).first()[0]\n",
        "max_salary = df.agg(F.max(df.salary_in_usd)).first()[0]\n",
        "\n",
        "print(f\"Salario mínimo: {min_salary}\")\n",
        "print(f\"Salario máximo: {max_salary}\")"
      ],
      "metadata": {
        "colab": {
          "base_uri": "https://localhost:8080/"
        },
        "id": "3mfpIpNJ1GJm",
        "outputId": "125b9342-7e1a-43b8-f499-a52c1cf2c380"
      },
      "execution_count": 12,
      "outputs": [
        {
          "output_type": "stream",
          "name": "stdout",
          "text": [
            "Salario mínimo: 24000\n",
            "Salario máximo: 450000\n"
          ]
        }
      ]
    },
    {
      "cell_type": "markdown",
      "source": [
        "Creación de clases basado en el rango salarial:\n",
        "\n",
        "* Desde 24,000 y hasta 95,375 → Clase 1\n",
        "* Desde 95,375 y hasta 182,100 → Clase 2\n",
        "* Desde 182,100 y hasta 231,250 → Clase 3\n",
        "* Desde 231,250 → Clase 4\n",
        "\n"
      ],
      "metadata": {
        "id": "yq4EwscR1pJY"
      }
    },
    {
      "cell_type": "code",
      "source": [
        "# Definir los tramos salariales y etiquetas\n",
        "brackets = [(95375, 1), (182100, 2), (231250, 3)]\n",
        "\n",
        "# Construir la expresión condicional encadenada\n",
        "income_expr = F.when(F.col(\"salary_in_usd\") > 231250, 4)\n",
        "for limit, label in brackets:\n",
        "    income_expr = income_expr.when(F.col(\"salary_in_usd\") <= limit, label)\n",
        "\n",
        "# Aplicar la nueva columna\n",
        "df = df.withColumn(\"income_bracket\", income_expr)"
      ],
      "metadata": {
        "id": "uEqKKcqv2_gE"
      },
      "execution_count": 13,
      "outputs": []
    },
    {
      "cell_type": "code",
      "source": [
        "df = df.drop('salary_in_usd')"
      ],
      "metadata": {
        "id": "59rbZi6J3kTx"
      },
      "execution_count": 14,
      "outputs": []
    },
    {
      "cell_type": "code",
      "source": [
        "# Agrupar por 'income_bracket' y contar los registros\n",
        "class_counts = (\n",
        "    df.groupBy(\"income_bracket\")\n",
        "      .count()\n",
        "      .orderBy(\"income_bracket\")\n",
        "      .toPandas()\n",
        ")\n",
        "\n",
        "# Mostrar los valores numéricos\n",
        "print(\"Conteo por categoría de income_bracket:\\n\")\n",
        "print(class_counts.to_string(index=False))\n"
      ],
      "metadata": {
        "colab": {
          "base_uri": "https://localhost:8080/"
        },
        "id": "RJCg8-Wb3nXU",
        "outputId": "86e2df6a-4a78-408e-853e-ff4f3438c223"
      },
      "execution_count": 15,
      "outputs": [
        {
          "output_type": "stream",
          "name": "stdout",
          "text": [
            "Conteo por categoría de income_bracket:\n",
            "\n",
            " income_bracket  count\n",
            "              1    277\n",
            "              2   1078\n",
            "              3    359\n",
            "              4    179\n"
          ]
        }
      ]
    },
    {
      "cell_type": "markdown",
      "source": [
        "# Codificación de variables Categoricas\n"
      ],
      "metadata": {
        "id": "Wjt49-isuk9B"
      }
    },
    {
      "cell_type": "code",
      "source": [
        "# Indexación de cadenas para columnas categóricas\n",
        "indexers = [StringIndexer(inputCol=column, outputCol=column+\"_index\").fit(df) for column in df.columns if str(df.schema[column].dataType) == 'StringType()']\n",
        "\n",
        "# Codificación para columnas categóricas\n",
        "encoders = [OneHotEncoder(inputCol=column+\"_index\", outputCol= column+\"_ohe\") for column in df.columns if str(df.schema[column].dataType) == 'StringType()']\n",
        "\n",
        "# Etapas del proceso\n",
        "stages = indexers + encoders\n",
        "\n",
        "\n",
        "\n",
        "pipeline = Pipeline(stages=stages)\n",
        "\n",
        "# Transformación de datos\n",
        "df = pipeline.fit(df).transform(df)\n",
        "df.printSchema()"
      ],
      "metadata": {
        "colab": {
          "base_uri": "https://localhost:8080/"
        },
        "id": "550ZrlmlZ7jj",
        "outputId": "868cd499-dfb9-4a71-990b-a7b097a33f1c"
      },
      "execution_count": 16,
      "outputs": [
        {
          "output_type": "stream",
          "name": "stdout",
          "text": [
            "root\n",
            " |-- work_year: integer (nullable = true)\n",
            " |-- experience_level: string (nullable = true)\n",
            " |-- employment_type: string (nullable = true)\n",
            " |-- job_title: string (nullable = true)\n",
            " |-- remote_ratio: integer (nullable = true)\n",
            " |-- company_location: string (nullable = true)\n",
            " |-- company_size: string (nullable = true)\n",
            " |-- income_bracket: integer (nullable = true)\n",
            " |-- experience_level_index: double (nullable = false)\n",
            " |-- employment_type_index: double (nullable = false)\n",
            " |-- job_title_index: double (nullable = false)\n",
            " |-- company_location_index: double (nullable = false)\n",
            " |-- company_size_index: double (nullable = false)\n",
            " |-- experience_level_ohe: vector (nullable = true)\n",
            " |-- employment_type_ohe: vector (nullable = true)\n",
            " |-- job_title_ohe: vector (nullable = true)\n",
            " |-- company_location_ohe: vector (nullable = true)\n",
            " |-- company_size_ohe: vector (nullable = true)\n",
            "\n"
          ]
        }
      ]
    },
    {
      "cell_type": "code",
      "source": [
        "# Borrar columnas originales\n",
        "for column in df.columns:\n",
        "    if str(df.schema[column].dataType) == 'StringType()':\n",
        "        df = df.drop(column)\n",
        "\n",
        "df.printSchema()"
      ],
      "metadata": {
        "colab": {
          "base_uri": "https://localhost:8080/"
        },
        "id": "xLEhS6IMaCX8",
        "outputId": "c272e1bd-fbe9-49e3-f3ae-4f52a72eeba9"
      },
      "execution_count": 17,
      "outputs": [
        {
          "output_type": "stream",
          "name": "stdout",
          "text": [
            "root\n",
            " |-- work_year: integer (nullable = true)\n",
            " |-- remote_ratio: integer (nullable = true)\n",
            " |-- income_bracket: integer (nullable = true)\n",
            " |-- experience_level_index: double (nullable = false)\n",
            " |-- employment_type_index: double (nullable = false)\n",
            " |-- job_title_index: double (nullable = false)\n",
            " |-- company_location_index: double (nullable = false)\n",
            " |-- company_size_index: double (nullable = false)\n",
            " |-- experience_level_ohe: vector (nullable = true)\n",
            " |-- employment_type_ohe: vector (nullable = true)\n",
            " |-- job_title_ohe: vector (nullable = true)\n",
            " |-- company_location_ohe: vector (nullable = true)\n",
            " |-- company_size_ohe: vector (nullable = true)\n",
            "\n"
          ]
        }
      ]
    },
    {
      "cell_type": "code",
      "source": [
        "df.show()"
      ],
      "metadata": {
        "colab": {
          "base_uri": "https://localhost:8080/"
        },
        "id": "iskl_UaqPd3-",
        "outputId": "08b7dab1-619e-42fb-f341-3bdb67ed1abc"
      },
      "execution_count": 18,
      "outputs": [
        {
          "output_type": "stream",
          "name": "stdout",
          "text": [
            "+---------+------------+--------------+----------------------+---------------------+---------------+----------------------+------------------+--------------------+-------------------+---------------+--------------------+----------------+\n",
            "|work_year|remote_ratio|income_bracket|experience_level_index|employment_type_index|job_title_index|company_location_index|company_size_index|experience_level_ohe|employment_type_ohe|  job_title_ohe|company_location_ohe|company_size_ohe|\n",
            "+---------+------------+--------------+----------------------+---------------------+---------------+----------------------+------------------+--------------------+-------------------+---------------+--------------------+----------------+\n",
            "|     2023|           0|             2|                   0.0|                  0.0|            3.0|                   0.0|               0.0|       (3,[0],[1.0])|      (2,[0],[1.0])| (69,[3],[1.0])|       (5,[0],[1.0])|   (2,[0],[1.0])|\n",
            "|     2023|           0|             2|                   0.0|                  0.0|            2.0|                   0.0|               0.0|       (3,[0],[1.0])|      (2,[0],[1.0])| (69,[2],[1.0])|       (5,[0],[1.0])|   (2,[0],[1.0])|\n",
            "|     2023|           0|             2|                   0.0|                  0.0|            0.0|                   0.0|               0.0|       (3,[0],[1.0])|      (2,[0],[1.0])| (69,[0],[1.0])|       (5,[0],[1.0])|   (2,[0],[1.0])|\n",
            "|     2023|         100|             2|                   0.0|                  0.0|            0.0|                   0.0|               0.0|       (3,[0],[1.0])|      (2,[0],[1.0])| (69,[0],[1.0])|       (5,[0],[1.0])|   (2,[0],[1.0])|\n",
            "|     2023|           0|             1|                   1.0|                  0.0|            0.0|                   0.0|               0.0|       (3,[1],[1.0])|      (2,[0],[1.0])| (69,[0],[1.0])|       (5,[0],[1.0])|   (2,[0],[1.0])|\n",
            "|     2022|         100|             2|                   0.0|                  0.0|            0.0|                   0.0|               0.0|       (3,[0],[1.0])|      (2,[0],[1.0])| (69,[0],[1.0])|       (5,[0],[1.0])|   (2,[0],[1.0])|\n",
            "|     2022|           0|             2|                   0.0|                  0.0|            2.0|                   0.0|               0.0|       (3,[0],[1.0])|      (2,[0],[1.0])| (69,[2],[1.0])|       (5,[0],[1.0])|   (2,[0],[1.0])|\n",
            "|     2021|         100|             2|                   1.0|                  0.0|            0.0|                   0.0|               1.0|       (3,[1],[1.0])|      (2,[0],[1.0])| (69,[0],[1.0])|       (5,[0],[1.0])|   (2,[1],[1.0])|\n",
            "|     2023|           0|             2|                   2.0|                  0.0|            7.0|                   0.0|               0.0|       (3,[2],[1.0])|      (2,[0],[1.0])| (69,[7],[1.0])|       (5,[0],[1.0])|   (2,[0],[1.0])|\n",
            "|     2023|           0|             3|                   0.0|                  0.0|            0.0|                   0.0|               0.0|       (3,[0],[1.0])|      (2,[0],[1.0])| (69,[0],[1.0])|       (5,[0],[1.0])|   (2,[0],[1.0])|\n",
            "|     2022|         100|             2|                   0.0|                  0.0|            1.0|                   0.0|               0.0|       (3,[0],[1.0])|      (2,[0],[1.0])| (69,[1],[1.0])|       (5,[0],[1.0])|   (2,[0],[1.0])|\n",
            "|     2021|         100|             1|                   2.0|                  0.0|            2.0|                   0.0|               0.0|       (3,[2],[1.0])|      (2,[0],[1.0])| (69,[2],[1.0])|       (5,[0],[1.0])|   (2,[0],[1.0])|\n",
            "|     2023|         100|             1|                   0.0|                  0.0|            2.0|                   0.0|               2.0|       (3,[0],[1.0])|      (2,[0],[1.0])| (69,[2],[1.0])|       (5,[0],[1.0])|       (2,[],[])|\n",
            "|     2023|           0|             4|                   0.0|                  0.0|            7.0|                   0.0|               0.0|       (3,[0],[1.0])|      (2,[0],[1.0])| (69,[7],[1.0])|       (5,[0],[1.0])|   (2,[0],[1.0])|\n",
            "|     2022|         100|             2|                   1.0|                  0.0|           37.0|                   0.0|               0.0|       (3,[1],[1.0])|      (2,[0],[1.0])|(69,[37],[1.0])|       (5,[0],[1.0])|   (2,[0],[1.0])|\n",
            "|     2022|           0|             3|                   0.0|                  0.0|            1.0|                   0.0|               0.0|       (3,[0],[1.0])|      (2,[0],[1.0])| (69,[1],[1.0])|       (5,[0],[1.0])|   (2,[0],[1.0])|\n",
            "|     2022|         100|             2|                   1.0|                  0.0|            1.0|                   0.0|               0.0|       (3,[1],[1.0])|      (2,[0],[1.0])| (69,[1],[1.0])|       (5,[0],[1.0])|   (2,[0],[1.0])|\n",
            "|     2022|         100|             2|                   1.0|                  0.0|           21.0|                   0.0|               0.0|       (3,[1],[1.0])|      (2,[0],[1.0])|(69,[21],[1.0])|       (5,[0],[1.0])|   (2,[0],[1.0])|\n",
            "|     2022|           0|             1|                   0.0|                  0.0|            0.0|                   0.0|               1.0|       (3,[0],[1.0])|      (2,[0],[1.0])| (69,[0],[1.0])|       (5,[0],[1.0])|   (2,[1],[1.0])|\n",
            "|     2022|           0|             2|                   0.0|                  0.0|            1.0|                   0.0|               1.0|       (3,[0],[1.0])|      (2,[0],[1.0])| (69,[1],[1.0])|       (5,[0],[1.0])|   (2,[1],[1.0])|\n",
            "+---------+------------+--------------+----------------------+---------------------+---------------+----------------------+------------------+--------------------+-------------------+---------------+--------------------+----------------+\n",
            "only showing top 20 rows\n",
            "\n"
          ]
        }
      ]
    },
    {
      "cell_type": "markdown",
      "source": [
        "En PySpark, estructuras como (3, [0], [1.0]) representan vectores dispersos, usados para ahorrar memoria al trabajar con datos de alta dimensión, como los generados por One-Hot Encoding.\n",
        "\n",
        "- El primer número indica el tamaño del vector.\n",
        "- La segunda lista señala los índices con valores distintos de cero.\n",
        "- La tercera lista contiene esos valores.\n",
        "\n",
        "Este formato guarda solo los valores distintos de cero, lo que lo hace eficiente para variables categóricas con muchos niveles. Una vez codificadas, puedes eliminar las columnas indexadas creadas por StringIndexer, ya que solo sirven como paso intermedio y no aportan al modelo final\n"
      ],
      "metadata": {
        "id": "E81a56ZMPhob"
      }
    },
    {
      "cell_type": "code",
      "source": [
        "# Eliminación de columnas categóricas e índices originales\n",
        "for column in df.columns:\n",
        "    if column.endswith('_index'):\n",
        "        df = df.drop(column)\n",
        "\n",
        "df.printSchema()"
      ],
      "metadata": {
        "colab": {
          "base_uri": "https://localhost:8080/"
        },
        "id": "1HyXzBnzaNUB",
        "outputId": "80778cab-ceaa-4603-c85f-13d4d4acc00c"
      },
      "execution_count": 19,
      "outputs": [
        {
          "output_type": "stream",
          "name": "stdout",
          "text": [
            "root\n",
            " |-- work_year: integer (nullable = true)\n",
            " |-- remote_ratio: integer (nullable = true)\n",
            " |-- income_bracket: integer (nullable = true)\n",
            " |-- experience_level_ohe: vector (nullable = true)\n",
            " |-- employment_type_ohe: vector (nullable = true)\n",
            " |-- job_title_ohe: vector (nullable = true)\n",
            " |-- company_location_ohe: vector (nullable = true)\n",
            " |-- company_size_ohe: vector (nullable = true)\n",
            "\n"
          ]
        }
      ]
    },
    {
      "cell_type": "code",
      "source": [
        "df.show()"
      ],
      "metadata": {
        "colab": {
          "base_uri": "https://localhost:8080/"
        },
        "id": "LdeJC-UXbezx",
        "outputId": "96a463ce-5529-46f8-a779-e19d99ca4074"
      },
      "execution_count": 20,
      "outputs": [
        {
          "output_type": "stream",
          "name": "stdout",
          "text": [
            "+---------+------------+--------------+--------------------+-------------------+---------------+--------------------+----------------+\n",
            "|work_year|remote_ratio|income_bracket|experience_level_ohe|employment_type_ohe|  job_title_ohe|company_location_ohe|company_size_ohe|\n",
            "+---------+------------+--------------+--------------------+-------------------+---------------+--------------------+----------------+\n",
            "|     2023|           0|             2|       (3,[0],[1.0])|      (2,[0],[1.0])| (69,[3],[1.0])|       (5,[0],[1.0])|   (2,[0],[1.0])|\n",
            "|     2023|           0|             2|       (3,[0],[1.0])|      (2,[0],[1.0])| (69,[2],[1.0])|       (5,[0],[1.0])|   (2,[0],[1.0])|\n",
            "|     2023|           0|             2|       (3,[0],[1.0])|      (2,[0],[1.0])| (69,[0],[1.0])|       (5,[0],[1.0])|   (2,[0],[1.0])|\n",
            "|     2023|         100|             2|       (3,[0],[1.0])|      (2,[0],[1.0])| (69,[0],[1.0])|       (5,[0],[1.0])|   (2,[0],[1.0])|\n",
            "|     2023|           0|             1|       (3,[1],[1.0])|      (2,[0],[1.0])| (69,[0],[1.0])|       (5,[0],[1.0])|   (2,[0],[1.0])|\n",
            "|     2022|         100|             2|       (3,[0],[1.0])|      (2,[0],[1.0])| (69,[0],[1.0])|       (5,[0],[1.0])|   (2,[0],[1.0])|\n",
            "|     2022|           0|             2|       (3,[0],[1.0])|      (2,[0],[1.0])| (69,[2],[1.0])|       (5,[0],[1.0])|   (2,[0],[1.0])|\n",
            "|     2021|         100|             2|       (3,[1],[1.0])|      (2,[0],[1.0])| (69,[0],[1.0])|       (5,[0],[1.0])|   (2,[1],[1.0])|\n",
            "|     2023|           0|             2|       (3,[2],[1.0])|      (2,[0],[1.0])| (69,[7],[1.0])|       (5,[0],[1.0])|   (2,[0],[1.0])|\n",
            "|     2023|           0|             3|       (3,[0],[1.0])|      (2,[0],[1.0])| (69,[0],[1.0])|       (5,[0],[1.0])|   (2,[0],[1.0])|\n",
            "|     2022|         100|             2|       (3,[0],[1.0])|      (2,[0],[1.0])| (69,[1],[1.0])|       (5,[0],[1.0])|   (2,[0],[1.0])|\n",
            "|     2021|         100|             1|       (3,[2],[1.0])|      (2,[0],[1.0])| (69,[2],[1.0])|       (5,[0],[1.0])|   (2,[0],[1.0])|\n",
            "|     2023|         100|             1|       (3,[0],[1.0])|      (2,[0],[1.0])| (69,[2],[1.0])|       (5,[0],[1.0])|       (2,[],[])|\n",
            "|     2023|           0|             4|       (3,[0],[1.0])|      (2,[0],[1.0])| (69,[7],[1.0])|       (5,[0],[1.0])|   (2,[0],[1.0])|\n",
            "|     2022|         100|             2|       (3,[1],[1.0])|      (2,[0],[1.0])|(69,[37],[1.0])|       (5,[0],[1.0])|   (2,[0],[1.0])|\n",
            "|     2022|           0|             3|       (3,[0],[1.0])|      (2,[0],[1.0])| (69,[1],[1.0])|       (5,[0],[1.0])|   (2,[0],[1.0])|\n",
            "|     2022|         100|             2|       (3,[1],[1.0])|      (2,[0],[1.0])| (69,[1],[1.0])|       (5,[0],[1.0])|   (2,[0],[1.0])|\n",
            "|     2022|         100|             2|       (3,[1],[1.0])|      (2,[0],[1.0])|(69,[21],[1.0])|       (5,[0],[1.0])|   (2,[0],[1.0])|\n",
            "|     2022|           0|             1|       (3,[0],[1.0])|      (2,[0],[1.0])| (69,[0],[1.0])|       (5,[0],[1.0])|   (2,[1],[1.0])|\n",
            "|     2022|           0|             2|       (3,[0],[1.0])|      (2,[0],[1.0])| (69,[1],[1.0])|       (5,[0],[1.0])|   (2,[1],[1.0])|\n",
            "+---------+------------+--------------+--------------------+-------------------+---------------+--------------------+----------------+\n",
            "only showing top 20 rows\n",
            "\n"
          ]
        }
      ]
    },
    {
      "cell_type": "code",
      "source": [
        "from pyspark.ml.feature import VectorAssembler\n",
        "\n",
        "# Definición de las columnas de características\n",
        "feature_columns = [column for column in df.columns if column != 'income_bracket']\n",
        "\n",
        "# Separar las características y la etiqueta\n",
        "assembler = VectorAssembler(inputCols=feature_columns, outputCol=\"features\")\n",
        "\n",
        "df = assembler.transform(df)\n",
        "\n",
        "# Seleccionar características y etiqueta\n",
        "df = df.select('features', 'income_bracket')\n",
        "\n",
        "# Transformar los datos\n",
        "df.printSchema()\n"
      ],
      "metadata": {
        "colab": {
          "base_uri": "https://localhost:8080/"
        },
        "id": "gmP3W4eZbHVR",
        "outputId": "4e4e742e-4e1e-4013-dc78-dc8db038ac11"
      },
      "execution_count": 21,
      "outputs": [
        {
          "output_type": "stream",
          "name": "stdout",
          "text": [
            "root\n",
            " |-- features: vector (nullable = true)\n",
            " |-- income_bracket: integer (nullable = true)\n",
            "\n"
          ]
        }
      ]
    },
    {
      "cell_type": "markdown",
      "source": [
        "# Normalizar las características"
      ],
      "metadata": {
        "id": "gzZ0IDeIQXMg"
      }
    },
    {
      "cell_type": "code",
      "source": [
        "from pyspark.ml.feature import StandardScaler\n",
        "\n",
        "# Inicializar standard scaler\n",
        "scaler = StandardScaler(inputCol=\"features\", outputCol=\"scaled_features\", withStd=True, withMean=True)\n",
        "\n",
        "# Ajustar el escalador a tus datos\n",
        "scalerModel = scaler.fit(df)\n",
        "\n",
        "# Normalizado\n",
        "df = scalerModel.transform(df)\n",
        "\n",
        "\n",
        "df.printSchema()"
      ],
      "metadata": {
        "colab": {
          "base_uri": "https://localhost:8080/"
        },
        "id": "l4v3ei3Dco54",
        "outputId": "f705be1f-9fdf-4ce0-cf02-1687761ca918"
      },
      "execution_count": 22,
      "outputs": [
        {
          "output_type": "stream",
          "name": "stdout",
          "text": [
            "root\n",
            " |-- features: vector (nullable = true)\n",
            " |-- income_bracket: integer (nullable = true)\n",
            " |-- scaled_features: vector (nullable = true)\n",
            "\n"
          ]
        }
      ]
    },
    {
      "cell_type": "code",
      "source": [
        "df.show()"
      ],
      "metadata": {
        "colab": {
          "base_uri": "https://localhost:8080/"
        },
        "id": "GAGICAfaN4UA",
        "outputId": "b4be4238-9a11-4923-c88e-d0a452abb95c"
      },
      "execution_count": 23,
      "outputs": [
        {
          "output_type": "stream",
          "name": "stdout",
          "text": [
            "+--------------------+--------------+--------------------+\n",
            "|            features|income_bracket|     scaled_features|\n",
            "+--------------------+--------------+--------------------+\n",
            "|(83,[0,2,5,10,76,...|             2|[0.88167637673653...|\n",
            "|(83,[0,2,5,9,76,8...|             2|[0.88167637673653...|\n",
            "|(83,[0,2,5,7,76,8...|             2|[0.88167637673653...|\n",
            "|(83,[0,1,2,5,7,76...|             2|[0.88167637673653...|\n",
            "|(83,[0,3,5,7,76,8...|             1|[0.88167637673653...|\n",
            "|(83,[0,1,2,5,7,76...|             2|[-0.6622767973297...|\n",
            "|(83,[0,2,5,9,76,8...|             2|[-0.6622767973297...|\n",
            "|(83,[0,1,3,5,7,76...|             2|[-2.2062299713960...|\n",
            "|(83,[0,4,5,14,76,...|             2|[0.88167637673653...|\n",
            "|(83,[0,2,5,7,76,8...|             3|[0.88167637673653...|\n",
            "|(83,[0,1,2,5,8,76...|             2|[-0.6622767973297...|\n",
            "|(83,[0,1,4,5,9,76...|             1|[-2.2062299713960...|\n",
            "|(83,[0,1,2,5,9,76...|             1|[0.88167637673653...|\n",
            "|(83,[0,2,5,14,76,...|             4|[0.88167637673653...|\n",
            "|(83,[0,1,3,5,44,7...|             2|[-0.6622767973297...|\n",
            "|(83,[0,2,5,8,76,8...|             3|[-0.6622767973297...|\n",
            "|(83,[0,1,3,5,8,76...|             2|[-0.6622767973297...|\n",
            "|(83,[0,1,3,5,28,7...|             2|[-0.6622767973297...|\n",
            "|(83,[0,2,5,7,76,8...|             1|[-0.6622767973297...|\n",
            "|(83,[0,2,5,8,76,8...|             2|[-0.6622767973297...|\n",
            "+--------------------+--------------+--------------------+\n",
            "only showing top 20 rows\n",
            "\n"
          ]
        }
      ]
    },
    {
      "cell_type": "markdown",
      "source": [
        "# Modelado de datos"
      ],
      "metadata": {
        "id": "p0EV5od_jAgm"
      }
    },
    {
      "cell_type": "code",
      "source": [
        "# Separar en train y test\n",
        "train_data, test_data = df.randomSplit([0.8, 0.2], seed=42)"
      ],
      "metadata": {
        "id": "IvuePrkkjDK7"
      },
      "execution_count": 24,
      "outputs": []
    },
    {
      "cell_type": "code",
      "source": [
        "\n",
        "# Definir los modelos\n",
        "models = {\n",
        "    \"Decision Tree Classifier\": DecisionTreeClassifier(featuresCol='features', labelCol='income_bracket'),\n",
        "    \"Random Forest Classifier\": RandomForestClassifier(featuresCol='features', labelCol='income_bracket'),\n",
        "    \"Naive Bayes\": NaiveBayes(featuresCol='features', labelCol='income_bracket')\n",
        "}\n",
        "\n",
        "# Definir evaluadores\n",
        "evaluator_accuracy = MulticlassClassificationEvaluator(predictionCol=\"prediction\", labelCol='income_bracket', metricName=\"accuracy\")\n",
        "evaluator_f1 = MulticlassClassificationEvaluator(predictionCol=\"prediction\", labelCol='income_bracket', metricName=\"f1\")\n",
        "\n",
        "# Recorrer los modelos\n",
        "for model_name, model in models.items():\n",
        "    # Ajustar el modelo\n",
        "    model_fit = model.fit(train_data)\n",
        "\n",
        "    # Predicción\n",
        "    test_results = model_fit.transform(test_data)\n",
        "    train_results = model_fit.transform(train_data)\n",
        "\n",
        "    # Calcular la precisión y la puntuación F1.\n",
        "    accuracy = evaluator_accuracy.evaluate(test_results)\n",
        "    f1 = evaluator_f1.evaluate(test_results)\n",
        "    accuracy_train = evaluator_accuracy.evaluate(train_results)\n",
        "    f1_train = evaluator_f1.evaluate(train_results)\n",
        "\n",
        "    # Imprimir los resultados\n",
        "    print(f\"{model_name}: Train Accuracy = {accuracy_train}, Train F1 = {f1_train}\")\n",
        "    print(f\"{model_name}: Test Accuracy = {accuracy}, Test F1 = {f1}\")\n"
      ],
      "metadata": {
        "colab": {
          "base_uri": "https://localhost:8080/"
        },
        "id": "wkHU_EBHjJBi",
        "outputId": "41436fb3-91c5-43fb-b42f-a15f1e7e8dd6"
      },
      "execution_count": 25,
      "outputs": [
        {
          "output_type": "stream",
          "name": "stdout",
          "text": [
            "Decision Tree Classifier: Train Accuracy = 0.6019230769230769, Train F1 = 0.5118705330831265\n",
            "Decision Tree Classifier: Test Accuracy = 0.5675675675675675, Test F1 = 0.48461021731569665\n",
            "Random Forest Classifier: Train Accuracy = 0.583974358974359, Train F1 = 0.44938958081053976\n",
            "Random Forest Classifier: Test Accuracy = 0.5855855855855856, Test F1 = 0.44924129678228036\n",
            "Naive Bayes: Train Accuracy = 0.12692307692307692, Train F1 = 0.10951574760092325\n",
            "Naive Bayes: Test Accuracy = 0.11711711711711711, Test F1 = 0.10732322111632456\n"
          ]
        }
      ]
    }
  ]
}