{
  "nbformat": 4,
  "nbformat_minor": 0,
  "metadata": {
    "colab": {
      "provenance": []
    },
    "kernelspec": {
      "name": "python3",
      "display_name": "Python 3"
    },
    "language_info": {
      "name": "python"
    }
  },
  "cells": [
    {
      "cell_type": "markdown",
      "source": [
        "Autor: Natalia Betancur Herrera\n",
        "\n",
        "Fecha: 22/09/2025"
      ],
      "metadata": {
        "id": "Fshn9ERYJ0vz"
      }
    },
    {
      "cell_type": "markdown",
      "source": [
        "# Introducción a pyspark en Colab\n",
        "\n",
        "# 1. Primeros pasos con PySpark en Google Colab\n",
        "\n",
        "En este notebook exploraremos los conceptos básicos de Apache Spark utilizando PySpark en un entorno de Google Colab.\n",
        "\n",
        "## 1.1 Introduccion\n",
        "\n",
        "### _¿Qué es Apache Spark?_\n",
        "\n",
        "[Apache Spark](https://spark.apache.org/) es un _framework_ de programación **open source** diseñado para el **procesamiento distribuido de datos** (computación en clúster).  \n",
        "\n",
        "Fue desarrollado originalmente en la **Universidad de California, Berkeley**, y más tarde donado a la **Apache Software Foundation**, que actualmente mantiene y evoluciona el proyecto.  \n",
        "\n",
        "Spark destaca porque:  \n",
        "- Ofrece APIs en lenguajes como **Java, Python, Scala y R**.  \n",
        "- Proporciona librerías para tareas de alto nivel:  \n",
        "  - **Spark SQL** → Procesamiento de datos estructurados con sintaxis SQL.  \n",
        "  - **MLlib** → Algoritmos de *Machine Learning*.  \n",
        "  - **GraphX** → Procesamiento de grafos.  \n",
        "  - **Spark Streaming** → Procesamiento de datos en tiempo real.\n",
        "\n",
        "### ¿Qué es PySpark?  \n",
        "**PySpark** es la interfaz de Apache Spark para **Python**.   Nos permite aprovechar el poder del procesamiento distribuido de Spark junto con la **simplicidad y flexibilidad de Python** para el análisis de **grandes volúmenes de datos (_Big Data_)**.  \n",
        "\n",
        "### ¿Cómo usar PySpark en Google Colab?  \n",
        "\n",
        "Instalar y configurar Spark en un entorno local puede ser complejo.  Para simplificar el proceso, utilizaremos **Google Colab**, que nos ofrece un entorno preconfigurado donde solo debemos instalar las bibliotecas necesarias.  \n",
        "\n"
      ],
      "metadata": {
        "id": "1mzmSY2NKBnP"
      }
    },
    {
      "cell_type": "code",
      "execution_count": null,
      "metadata": {
        "colab": {
          "base_uri": "https://localhost:8080/"
        },
        "id": "NgF3LY98G-3T",
        "outputId": "def97623-f53e-4654-a4df-ff6b86cd6373"
      },
      "outputs": [
        {
          "output_type": "stream",
          "name": "stdout",
          "text": [
            "Requirement already satisfied: pyspark in /usr/local/lib/python3.12/dist-packages (3.5.1)\n",
            "Requirement already satisfied: py4j==0.10.9.7 in /usr/local/lib/python3.12/dist-packages (from pyspark) (0.10.9.7)\n"
          ]
        }
      ],
      "source": [
        "#Instalamos PySpark en el entorno de Google Colab\n",
        "!pip install pyspark"
      ]
    },
    {
      "cell_type": "code",
      "source": [
        "#Importamos las librerías principales de PySpark\n",
        "from pyspark.sql import SparkSession\n"
      ],
      "metadata": {
        "id": "CyfUWK1KPKdX"
      },
      "execution_count": null,
      "outputs": []
    },
    {
      "cell_type": "code",
      "source": [
        "#Creamos una SparkSession (punto de entrada a PySpark)\n",
        "spark = SparkSession.builder \\\n",
        "    .appName(\"PrimerosPasosPySpark\") \\\n",
        "    .getOrCreate()"
      ],
      "metadata": {
        "id": "7twGCLggPO2l"
      },
      "execution_count": null,
      "outputs": []
    },
    {
      "cell_type": "code",
      "source": [
        "#Verificamos la versión de Spark instalada\n",
        "print(\"Versión de Spark:\", spark.version)"
      ],
      "metadata": {
        "colab": {
          "base_uri": "https://localhost:8080/"
        },
        "id": "2KZhKuJBPR4-",
        "outputId": "41d5e68e-ddda-4ab7-a333-d5b06fdb120c"
      },
      "execution_count": null,
      "outputs": [
        {
          "output_type": "stream",
          "name": "stdout",
          "text": [
            "Versión de Spark: 3.5.1\n"
          ]
        }
      ]
    },
    {
      "cell_type": "code",
      "source": [
        "#Creamos un DataFrame sencillo para probar\n",
        "data = [(\"Natalia\", 28, \"F\", \"Manizales\" ), (\"Juan\", 35, \"M\", \"Medellin\"), (\"Sofía\", 23, \"F\", \"Pereira\")]\n",
        "columnas = [\"Nombre\", \"Edad\", \"Genero\", \"Ciudad\"]\n",
        "df = spark.createDataFrame(data, columnas)\n",
        "\n",
        "#Mostramos el contenido del DataFrame\n",
        "df.show()"
      ],
      "metadata": {
        "colab": {
          "base_uri": "https://localhost:8080/"
        },
        "id": "JRkacyuDPWV2",
        "outputId": "d3948cf3-245b-4c37-df05-30eb7eeb1038"
      },
      "execution_count": null,
      "outputs": [
        {
          "output_type": "stream",
          "name": "stdout",
          "text": [
            "+-------+----+------+---------+\n",
            "| Nombre|Edad|Genero|   Ciudad|\n",
            "+-------+----+------+---------+\n",
            "|Natalia|  28|     F|Manizales|\n",
            "|   Juan|  35|     M| Medellin|\n",
            "|  Sofía|  23|     F|  Pereira|\n",
            "+-------+----+------+---------+\n",
            "\n"
          ]
        }
      ]
    },
    {
      "cell_type": "code",
      "source": [
        "#Ver esquema (nombre y tipo de cada columna)\n",
        "df.printSchema()\n"
      ],
      "metadata": {
        "colab": {
          "base_uri": "https://localhost:8080/"
        },
        "id": "TDDKDmJbQgiL",
        "outputId": "a9238b96-d47d-46df-ccfa-bcf798120e59"
      },
      "execution_count": null,
      "outputs": [
        {
          "output_type": "stream",
          "name": "stdout",
          "text": [
            "root\n",
            " |-- Nombre: string (nullable = true)\n",
            " |-- Edad: long (nullable = true)\n",
            " |-- Genero: string (nullable = true)\n",
            " |-- Ciudad: string (nullable = true)\n",
            "\n"
          ]
        }
      ]
    },
    {
      "cell_type": "code",
      "source": [
        "# Seleccionar solo la columna \"Nombre\"\n",
        "df.select(\"Nombre\").show()"
      ],
      "metadata": {
        "colab": {
          "base_uri": "https://localhost:8080/"
        },
        "id": "ZXsFbIMRQkXM",
        "outputId": "5e5a25b7-4314-4a99-c009-94b9888ee959"
      },
      "execution_count": null,
      "outputs": [
        {
          "output_type": "stream",
          "name": "stdout",
          "text": [
            "+-------+\n",
            "| Nombre|\n",
            "+-------+\n",
            "|Natalia|\n",
            "|   Juan|\n",
            "|  Sofía|\n",
            "+-------+\n",
            "\n"
          ]
        }
      ]
    },
    {
      "cell_type": "code",
      "source": [
        "# Seleccionar varias columnas\n",
        "df.select(\"Nombre\", \"Edad\").show()"
      ],
      "metadata": {
        "colab": {
          "base_uri": "https://localhost:8080/"
        },
        "id": "d0-4XYdtRIQr",
        "outputId": "8833424b-0233-4f9e-d6af-8e6051848c37"
      },
      "execution_count": null,
      "outputs": [
        {
          "output_type": "stream",
          "name": "stdout",
          "text": [
            "+-------+----+\n",
            "| Nombre|Edad|\n",
            "+-------+----+\n",
            "|Natalia|  28|\n",
            "|   Juan|  35|\n",
            "|  Sofía|  23|\n",
            "+-------+----+\n",
            "\n"
          ]
        }
      ]
    },
    {
      "cell_type": "code",
      "source": [
        "# Filtrar personas mayores de 30 años\n",
        "df.filter(df[\"Edad\"] > 30).show()"
      ],
      "metadata": {
        "colab": {
          "base_uri": "https://localhost:8080/"
        },
        "id": "ToFztSwgWSav",
        "outputId": "5235f2a9-d469-4a79-f3dd-3359a3fe04b7"
      },
      "execution_count": null,
      "outputs": [
        {
          "output_type": "stream",
          "name": "stdout",
          "text": [
            "+------+----+------+--------+\n",
            "|Nombre|Edad|Genero|  Ciudad|\n",
            "+------+----+------+--------+\n",
            "|  Juan|  35|     M|Medellin|\n",
            "+------+----+------+--------+\n",
            "\n"
          ]
        }
      ]
    },
    {
      "cell_type": "code",
      "source": [
        "# Filtrar personas cuyo nombre empieza con \"N\"\n",
        "df.filter(df[\"Nombre\"].startswith(\"N\")).show()"
      ],
      "metadata": {
        "colab": {
          "base_uri": "https://localhost:8080/"
        },
        "id": "AfGUNihOWTdT",
        "outputId": "0989a078-a5c6-4c78-c71e-36e139852b46"
      },
      "execution_count": null,
      "outputs": [
        {
          "output_type": "stream",
          "name": "stdout",
          "text": [
            "+-------+----+------+---------+\n",
            "| Nombre|Edad|Genero|   Ciudad|\n",
            "+-------+----+------+---------+\n",
            "|Natalia|  28|     F|Manizales|\n",
            "+-------+----+------+---------+\n",
            "\n"
          ]
        }
      ]
    },
    {
      "cell_type": "code",
      "source": [
        "# Ordenar por edad ascendente\n",
        "df.orderBy(\"Edad\").show()"
      ],
      "metadata": {
        "id": "0TTjRlwoWZCp",
        "outputId": "560e319a-ff26-43df-fe2d-a8c9f217377c",
        "colab": {
          "base_uri": "https://localhost:8080/"
        }
      },
      "execution_count": null,
      "outputs": [
        {
          "output_type": "stream",
          "name": "stdout",
          "text": [
            "+-------+----+------+---------+\n",
            "| Nombre|Edad|Genero|   Ciudad|\n",
            "+-------+----+------+---------+\n",
            "|  Sofía|  23|     F|  Pereira|\n",
            "|Natalia|  28|     F|Manizales|\n",
            "|   Juan|  35|     M| Medellin|\n",
            "+-------+----+------+---------+\n",
            "\n"
          ]
        }
      ]
    },
    {
      "cell_type": "code",
      "source": [
        "# Ordenar por edad descendente\n",
        "df.orderBy(df[\"Edad\"].desc()).show()"
      ],
      "metadata": {
        "id": "CVuxC2URWb1K",
        "outputId": "c39997ff-2c44-4bac-e28c-0df62222adf1",
        "colab": {
          "base_uri": "https://localhost:8080/"
        }
      },
      "execution_count": null,
      "outputs": [
        {
          "output_type": "stream",
          "name": "stdout",
          "text": [
            "+-------+----+------+---------+\n",
            "| Nombre|Edad|Genero|   Ciudad|\n",
            "+-------+----+------+---------+\n",
            "|   Juan|  35|     M| Medellin|\n",
            "|Natalia|  28|     F|Manizales|\n",
            "|  Sofía|  23|     F|  Pereira|\n",
            "+-------+----+------+---------+\n",
            "\n"
          ]
        }
      ]
    },
    {
      "cell_type": "code",
      "source": [
        "from pyspark.sql import functions as F"
      ],
      "metadata": {
        "id": "dvPntN8SQ-on"
      },
      "execution_count": null,
      "outputs": []
    },
    {
      "cell_type": "code",
      "source": [
        "# Calcular promedio de edad\n",
        "df.groupBy().agg(F.avg(\"Edad\")).show()"
      ],
      "metadata": {
        "colab": {
          "base_uri": "https://localhost:8080/"
        },
        "id": "vDZ8UZXJRCxU",
        "outputId": "a65c45ee-848d-4ac1-d004-031590d987f9"
      },
      "execution_count": null,
      "outputs": [
        {
          "output_type": "stream",
          "name": "stdout",
          "text": [
            "+------------------+\n",
            "|         avg(Edad)|\n",
            "+------------------+\n",
            "|28.666666666666668|\n",
            "+------------------+\n",
            "\n"
          ]
        }
      ]
    },
    {
      "cell_type": "code",
      "source": [
        "# Calcular edad mínima y máxima\n",
        "df.groupBy().agg(F.min(\"Edad\"), F.max(\"Edad\")).show()"
      ],
      "metadata": {
        "colab": {
          "base_uri": "https://localhost:8080/"
        },
        "id": "zkOMoiPYRFBz",
        "outputId": "73cc8ec0-19c5-4774-96fe-f33f495463bb"
      },
      "execution_count": null,
      "outputs": [
        {
          "output_type": "stream",
          "name": "stdout",
          "text": [
            "+---------+---------+\n",
            "|min(Edad)|max(Edad)|\n",
            "+---------+---------+\n",
            "|       23|       35|\n",
            "+---------+---------+\n",
            "\n"
          ]
        }
      ]
    },
    {
      "cell_type": "code",
      "source": [
        "# Promedio de edad por género\n",
        "df.groupBy(\"Genero\").agg(F.avg(\"Edad\")).show()"
      ],
      "metadata": {
        "colab": {
          "base_uri": "https://localhost:8080/"
        },
        "id": "v9m9-wbXRPDr",
        "outputId": "7416bdf6-81fa-4f24-c283-c39930311aaf"
      },
      "execution_count": null,
      "outputs": [
        {
          "output_type": "stream",
          "name": "stdout",
          "text": [
            "+------+---------+\n",
            "|Genero|avg(Edad)|\n",
            "+------+---------+\n",
            "|     F|     25.5|\n",
            "|     M|     35.0|\n",
            "+------+---------+\n",
            "\n"
          ]
        }
      ]
    },
    {
      "cell_type": "code",
      "source": [
        "# Contar cuántas personas hay por género\n",
        "df.groupBy(\"Genero\").count().show()"
      ],
      "metadata": {
        "colab": {
          "base_uri": "https://localhost:8080/"
        },
        "id": "itaxUgN7RTsQ",
        "outputId": "f1fd5b63-8d1c-406f-ff5f-a7c3b687595d"
      },
      "execution_count": null,
      "outputs": [
        {
          "output_type": "stream",
          "name": "stdout",
          "text": [
            "+------+-----+\n",
            "|Genero|count|\n",
            "+------+-----+\n",
            "|     F|    2|\n",
            "|     M|    1|\n",
            "+------+-----+\n",
            "\n"
          ]
        }
      ]
    },
    {
      "cell_type": "code",
      "source": [
        "# Crear una nueva columna con Edad en 5 años\n",
        "df.withColumn(\"Edad+5\", df[\"Edad\"] + 5).show()"
      ],
      "metadata": {
        "colab": {
          "base_uri": "https://localhost:8080/"
        },
        "id": "xGzukSX1RX5p",
        "outputId": "e7fc823d-73c3-4bfe-b7d5-8fc0a868f6f3"
      },
      "execution_count": null,
      "outputs": [
        {
          "output_type": "stream",
          "name": "stdout",
          "text": [
            "+-------+----+------+---------+------+\n",
            "| Nombre|Edad|Genero|   Ciudad|Edad+5|\n",
            "+-------+----+------+---------+------+\n",
            "|Natalia|  28|     F|Manizales|    33|\n",
            "|   Juan|  35|     M| Medellin|    40|\n",
            "|  Sofía|  23|     F|  Pereira|    28|\n",
            "+-------+----+------+---------+------+\n",
            "\n"
          ]
        }
      ]
    },
    {
      "cell_type": "code",
      "source": [
        "# Crear una columna categórica: Mayor de 30\n",
        "df.withColumn(\"Mayor30\", (df[\"Edad\"] > 30)).show()"
      ],
      "metadata": {
        "colab": {
          "base_uri": "https://localhost:8080/"
        },
        "id": "gPBucxjqRdv8",
        "outputId": "186d5360-1d04-4a3f-fd11-1cd25e5e82df"
      },
      "execution_count": null,
      "outputs": [
        {
          "output_type": "stream",
          "name": "stdout",
          "text": [
            "+-------+----+------+---------+-------+\n",
            "| Nombre|Edad|Genero|   Ciudad|Mayor30|\n",
            "+-------+----+------+---------+-------+\n",
            "|Natalia|  28|     F|Manizales|  false|\n",
            "|   Juan|  35|     M| Medellin|   true|\n",
            "|  Sofía|  23|     F|  Pereira|  false|\n",
            "+-------+----+------+---------+-------+\n",
            "\n"
          ]
        }
      ]
    },
    {
      "cell_type": "markdown",
      "source": [
        "#Ventajas de usar PySpark en Google Colab\n",
        "\n",
        "1. **Entorno listo y gratuito**  \n",
        "   - No requiere instalación en tu PC.  \n",
        "   - Con `!pip install pyspark` puedes comenzar a trabajar.  \n",
        "\n",
        "2. **Acceso desde la nube**  \n",
        "   - Funciona en servidores de Google, evitando problemas de compatibilidad (Windows, macOS, Linux).  \n",
        "   - Solo necesitas conexión a internet.  \n",
        "\n",
        "3. **Recursos gratuitos de cómputo**  \n",
        "   - Colab ofrece CPU, GPU y TPU gratis.  \n",
        "   - Aunque Spark no usa GPU, el entorno es más potente que un equipo básico.  \n",
        "\n",
        "4. **Integración con Google Drive**  \n",
        "   - Permite almacenar y acceder fácilmente a datasets grandes.  \n",
        "   - Todo el trabajo se guarda directamente en la nube.  \n",
        "\n",
        "5. **Facilidad para compartir y colaborar**  \n",
        "   - Los notebooks se comparten como documentos de Google.  \n",
        "   - Ideal para proyectos en equipo y docencia.   \n",
        "\n",
        "6. **Compatibilidad con el ecosistema Python**  \n",
        "   - Se puede combinar PySpark con librerías como **Pandas, NumPy, Matplotlib, Scikit-learn**.  \n",
        "   - Flujo híbrido: Spark para datos masivos y Pandas para análisis rápidos.  "
      ],
      "metadata": {
        "id": "n_Tk-LW5S4Xo"
      }
    }
  ]
}